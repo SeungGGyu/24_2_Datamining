{
 "cells": [
  {
   "cell_type": "code",
   "execution_count": 3,
   "metadata": {},
   "outputs": [
    {
     "name": "stdout",
     "output_type": "stream",
     "text": [
      "Requirement already satisfied: numpy in c:\\users\\thinkpad\\anaconda3\\lib\\site-packages (1.24.3)Note: you may need to restart the kernel to use updated packages.\n",
      "\n"
     ]
    }
   ],
   "source": [
    "pip install numpy"
   ]
  },
  {
   "cell_type": "code",
   "execution_count": 4,
   "metadata": {},
   "outputs": [
    {
     "name": "stdout",
     "output_type": "stream",
     "text": [
      "Requirement already satisfied: catboost in c:\\users\\thinkpad\\anaconda3\\lib\\site-packages (1.2.7)Note: you may need to restart the kernel to use updated packages.\n",
      "\n",
      "Requirement already satisfied: graphviz in c:\\users\\thinkpad\\anaconda3\\lib\\site-packages (from catboost) (0.20.3)\n",
      "Requirement already satisfied: matplotlib in c:\\users\\thinkpad\\anaconda3\\lib\\site-packages (from catboost) (3.7.2)\n",
      "Requirement already satisfied: numpy<2.0,>=1.16.0 in c:\\users\\thinkpad\\anaconda3\\lib\\site-packages (from catboost) (1.24.3)\n",
      "Requirement already satisfied: pandas>=0.24 in c:\\users\\thinkpad\\anaconda3\\lib\\site-packages (from catboost) (2.2.3)\n",
      "Requirement already satisfied: scipy in c:\\users\\thinkpad\\anaconda3\\lib\\site-packages (from catboost) (1.11.1)\n",
      "Requirement already satisfied: plotly in c:\\users\\thinkpad\\anaconda3\\lib\\site-packages (from catboost) (5.9.0)\n",
      "Requirement already satisfied: six in c:\\users\\thinkpad\\anaconda3\\lib\\site-packages (from catboost) (1.16.0)\n",
      "Requirement already satisfied: python-dateutil>=2.8.2 in c:\\users\\thinkpad\\anaconda3\\lib\\site-packages (from pandas>=0.24->catboost) (2.8.2)\n",
      "Requirement already satisfied: pytz>=2020.1 in c:\\users\\thinkpad\\anaconda3\\lib\\site-packages (from pandas>=0.24->catboost) (2023.3.post1)\n",
      "Requirement already satisfied: tzdata>=2022.7 in c:\\users\\thinkpad\\anaconda3\\lib\\site-packages (from pandas>=0.24->catboost) (2023.3)\n",
      "Requirement already satisfied: contourpy>=1.0.1 in c:\\users\\thinkpad\\anaconda3\\lib\\site-packages (from matplotlib->catboost) (1.0.5)\n",
      "Requirement already satisfied: cycler>=0.10 in c:\\users\\thinkpad\\anaconda3\\lib\\site-packages (from matplotlib->catboost) (0.11.0)\n",
      "Requirement already satisfied: fonttools>=4.22.0 in c:\\users\\thinkpad\\anaconda3\\lib\\site-packages (from matplotlib->catboost) (4.25.0)\n",
      "Requirement already satisfied: kiwisolver>=1.0.1 in c:\\users\\thinkpad\\anaconda3\\lib\\site-packages (from matplotlib->catboost) (1.4.4)\n",
      "Requirement already satisfied: packaging>=20.0 in c:\\users\\thinkpad\\anaconda3\\lib\\site-packages (from matplotlib->catboost) (23.1)\n",
      "Requirement already satisfied: pillow>=6.2.0 in c:\\users\\thinkpad\\anaconda3\\lib\\site-packages (from matplotlib->catboost) (9.4.0)\n",
      "Requirement already satisfied: pyparsing<3.1,>=2.3.1 in c:\\users\\thinkpad\\anaconda3\\lib\\site-packages (from matplotlib->catboost) (3.0.9)\n",
      "Requirement already satisfied: tenacity>=6.2.0 in c:\\users\\thinkpad\\anaconda3\\lib\\site-packages (from plotly->catboost) (8.2.2)\n"
     ]
    }
   ],
   "source": [
    "pip install catboost"
   ]
  },
  {
   "cell_type": "code",
   "execution_count": 5,
   "metadata": {},
   "outputs": [],
   "source": [
    "import pandas as pd\n",
    "import numpy as np\n",
    "from sklearn.model_selection import train_test_split\n",
    "from sklearn.feature_extraction.text import TfidfVectorizer\n",
    "from catboost import CatBoostClassifier\n",
    "from sklearn.metrics import classification_report, accuracy_score\n",
    "\n",
    "# 데이터셋 불러오기\n",
    "df = pd.read_csv('new_df.csv')\n",
    "\n",
    "# 특성과 레이블 분리\n",
    "X = df['preprocessed_text']  # 'text_column'을 실제 텍스트 열 이름으로 변경하세요\n",
    "y = df['label']  # 'label_column'을 실제 레이블 열 이름으로 변경하세요\n",
    "\n",
    "# 데이터셋을 훈련, 검증, 테스트 세트로 분할\n",
    "X_train, X_temp, y_train, y_temp = train_test_split(X, y, test_size=0.4, random_state=42)\n",
    "X_valid, X_test, y_valid, y_test = train_test_split(X_temp, y_temp, test_size=0.5, random_state=42)\n",
    "\n",
    "# TF-IDF를 사용하여 텍스트 데이터 벡터화\n",
    "vectorizer = TfidfVectorizer(max_features=30)\n",
    "X_train_vec = vectorizer.fit_transform(X_train)\n",
    "X_valid_vec = vectorizer.transform(X_valid)\n",
    "X_test_vec = vectorizer.transform(X_test)"
   ]
  },
  {
   "cell_type": "code",
   "execution_count": 6,
   "metadata": {},
   "outputs": [
    {
     "data": {
      "text/plain": [
       "<catboost.core.CatBoostClassifier at 0x29683d83c10>"
      ]
     },
     "execution_count": 6,
     "metadata": {},
     "output_type": "execute_result"
    }
   ],
   "source": [
    "# CatBoost 모델 훈련 및 평가\n",
    "catboost_model = CatBoostClassifier(iterations=500, learning_rate=0.1, depth=6, verbose=0, random_state=42)\n",
    "catboost_model.fit(X_train_vec, y_train, eval_set=(X_valid_vec, y_valid), early_stopping_rounds=50)"
   ]
  },
  {
   "cell_type": "code",
   "execution_count": 7,
   "metadata": {},
   "outputs": [
    {
     "name": "stdout",
     "output_type": "stream",
     "text": [
      "훈련 정확도: 0.743\n",
      "검증 정확도: 0.693\n",
      "테스트 정확도: 0.688\n",
      "\n",
      "검증 세트 분류 리포트:\n",
      "\n",
      "              precision    recall  f1-score   support\n",
      "\n",
      "           2       0.50      0.53      0.51       498\n",
      "           4       0.82      0.85      0.84       400\n",
      "           8       0.48      0.57      0.52       247\n",
      "           9       0.82      0.94      0.88       235\n",
      "          10       0.54      0.61      0.57       168\n",
      "          13       0.81      0.81      0.81       150\n",
      "          18       0.65      0.41      0.51       162\n",
      "          30       0.93      0.97      0.95       433\n",
      "          31       0.63      0.58      0.61       318\n",
      "          32       0.66      0.51      0.58       313\n",
      "          33       0.83      0.38      0.52       449\n",
      "          34       0.71      0.97      0.82       616\n",
      "          35       0.61      0.62      0.62       379\n",
      "\n",
      "    accuracy                           0.69      4368\n",
      "   macro avg       0.69      0.67      0.67      4368\n",
      "weighted avg       0.70      0.69      0.68      4368\n",
      "\n",
      "\n",
      "테스트 세트 분류 리포트:\n",
      "\n",
      "              precision    recall  f1-score   support\n",
      "\n",
      "           2       0.51      0.54      0.52       485\n",
      "           4       0.82      0.83      0.83       436\n",
      "           8       0.41      0.57      0.48       214\n",
      "           9       0.77      0.93      0.85       208\n",
      "          10       0.61      0.59      0.60       209\n",
      "          13       0.83      0.87      0.85       149\n",
      "          18       0.57      0.36      0.44       149\n",
      "          30       0.93      0.98      0.95       421\n",
      "          31       0.62      0.54      0.58       338\n",
      "          32       0.65      0.54      0.59       319\n",
      "          33       0.85      0.35      0.50       424\n",
      "          34       0.71      0.97      0.82       613\n",
      "          35       0.62      0.60      0.61       403\n",
      "\n",
      "    accuracy                           0.69      4368\n",
      "   macro avg       0.68      0.67      0.66      4368\n",
      "weighted avg       0.70      0.69      0.68      4368\n",
      "\n"
     ]
    }
   ],
   "source": [
    "\n",
    "# 모델 평가\n",
    "y_train_pred = catboost_model.predict(X_train_vec)\n",
    "y_valid_pred = catboost_model.predict(X_valid_vec)\n",
    "y_test_pred = catboost_model.predict(X_test_vec)\n",
    "\n",
    "train_accuracy = accuracy_score(y_train, y_train_pred)\n",
    "valid_accuracy = accuracy_score(y_valid, y_valid_pred)\n",
    "test_accuracy = accuracy_score(y_test, y_test_pred)\n",
    "\n",
    "print(f'훈련 정확도: {train_accuracy:.3f}')\n",
    "print(f'검증 정확도: {valid_accuracy:.3f}')\n",
    "print(f'테스트 정확도: {test_accuracy:.3f}')\n",
    "\n",
    "# 검증 세트에 대한 분류 리포트 출력\n",
    "print(\"\\n검증 세트 분류 리포트:\\n\")\n",
    "print(classification_report(y_valid, y_valid_pred))\n",
    "\n",
    "# 테스트 세트에 대한 분류 리포트 출력\n",
    "print(\"\\n테스트 세트 분류 리포트:\\n\")\n",
    "print(classification_report(y_test, y_test_pred))"
   ]
  },
  {
   "cell_type": "code",
   "execution_count": 8,
   "metadata": {},
   "outputs": [
    {
     "data": {
      "text/html": [
       "<style>#sk-container-id-1 {color: black;}#sk-container-id-1 pre{padding: 0;}#sk-container-id-1 div.sk-toggleable {background-color: white;}#sk-container-id-1 label.sk-toggleable__label {cursor: pointer;display: block;width: 100%;margin-bottom: 0;padding: 0.3em;box-sizing: border-box;text-align: center;}#sk-container-id-1 label.sk-toggleable__label-arrow:before {content: \"▸\";float: left;margin-right: 0.25em;color: #696969;}#sk-container-id-1 label.sk-toggleable__label-arrow:hover:before {color: black;}#sk-container-id-1 div.sk-estimator:hover label.sk-toggleable__label-arrow:before {color: black;}#sk-container-id-1 div.sk-toggleable__content {max-height: 0;max-width: 0;overflow: hidden;text-align: left;background-color: #f0f8ff;}#sk-container-id-1 div.sk-toggleable__content pre {margin: 0.2em;color: black;border-radius: 0.25em;background-color: #f0f8ff;}#sk-container-id-1 input.sk-toggleable__control:checked~div.sk-toggleable__content {max-height: 200px;max-width: 100%;overflow: auto;}#sk-container-id-1 input.sk-toggleable__control:checked~label.sk-toggleable__label-arrow:before {content: \"▾\";}#sk-container-id-1 div.sk-estimator input.sk-toggleable__control:checked~label.sk-toggleable__label {background-color: #d4ebff;}#sk-container-id-1 div.sk-label input.sk-toggleable__control:checked~label.sk-toggleable__label {background-color: #d4ebff;}#sk-container-id-1 input.sk-hidden--visually {border: 0;clip: rect(1px 1px 1px 1px);clip: rect(1px, 1px, 1px, 1px);height: 1px;margin: -1px;overflow: hidden;padding: 0;position: absolute;width: 1px;}#sk-container-id-1 div.sk-estimator {font-family: monospace;background-color: #f0f8ff;border: 1px dotted black;border-radius: 0.25em;box-sizing: border-box;margin-bottom: 0.5em;}#sk-container-id-1 div.sk-estimator:hover {background-color: #d4ebff;}#sk-container-id-1 div.sk-parallel-item::after {content: \"\";width: 100%;border-bottom: 1px solid gray;flex-grow: 1;}#sk-container-id-1 div.sk-label:hover label.sk-toggleable__label {background-color: #d4ebff;}#sk-container-id-1 div.sk-serial::before {content: \"\";position: absolute;border-left: 1px solid gray;box-sizing: border-box;top: 0;bottom: 0;left: 50%;z-index: 0;}#sk-container-id-1 div.sk-serial {display: flex;flex-direction: column;align-items: center;background-color: white;padding-right: 0.2em;padding-left: 0.2em;position: relative;}#sk-container-id-1 div.sk-item {position: relative;z-index: 1;}#sk-container-id-1 div.sk-parallel {display: flex;align-items: stretch;justify-content: center;background-color: white;position: relative;}#sk-container-id-1 div.sk-item::before, #sk-container-id-1 div.sk-parallel-item::before {content: \"\";position: absolute;border-left: 1px solid gray;box-sizing: border-box;top: 0;bottom: 0;left: 50%;z-index: -1;}#sk-container-id-1 div.sk-parallel-item {display: flex;flex-direction: column;z-index: 1;position: relative;background-color: white;}#sk-container-id-1 div.sk-parallel-item:first-child::after {align-self: flex-end;width: 50%;}#sk-container-id-1 div.sk-parallel-item:last-child::after {align-self: flex-start;width: 50%;}#sk-container-id-1 div.sk-parallel-item:only-child::after {width: 0;}#sk-container-id-1 div.sk-dashed-wrapped {border: 1px dashed gray;margin: 0 0.4em 0.5em 0.4em;box-sizing: border-box;padding-bottom: 0.4em;background-color: white;}#sk-container-id-1 div.sk-label label {font-family: monospace;font-weight: bold;display: inline-block;line-height: 1.2em;}#sk-container-id-1 div.sk-label-container {text-align: center;}#sk-container-id-1 div.sk-container {/* jupyter's `normalize.less` sets `[hidden] { display: none; }` but bootstrap.min.css set `[hidden] { display: none !important; }` so we also need the `!important` here to be able to override the default hidden behavior on the sphinx rendered scikit-learn.org. See: https://github.com/scikit-learn/scikit-learn/issues/21755 */display: inline-block !important;position: relative;}#sk-container-id-1 div.sk-text-repr-fallback {display: none;}</style><div id=\"sk-container-id-1\" class=\"sk-top-container\"><div class=\"sk-text-repr-fallback\"><pre>GridSearchCV(cv=3,\n",
       "             estimator=&lt;catboost.core.CatBoostClassifier object at 0x000002968F9F5450&gt;,\n",
       "             n_jobs=-1,\n",
       "             param_grid={&#x27;depth&#x27;: [4, 6, 8], &#x27;iterations&#x27;: [500],\n",
       "                         &#x27;learning_rate&#x27;: [0.01, 0.1, 0.2]},\n",
       "             scoring=&#x27;accuracy&#x27;)</pre><b>In a Jupyter environment, please rerun this cell to show the HTML representation or trust the notebook. <br />On GitHub, the HTML representation is unable to render, please try loading this page with nbviewer.org.</b></div><div class=\"sk-container\" hidden><div class=\"sk-item sk-dashed-wrapped\"><div class=\"sk-label-container\"><div class=\"sk-label sk-toggleable\"><input class=\"sk-toggleable__control sk-hidden--visually\" id=\"sk-estimator-id-1\" type=\"checkbox\" ><label for=\"sk-estimator-id-1\" class=\"sk-toggleable__label sk-toggleable__label-arrow\">GridSearchCV</label><div class=\"sk-toggleable__content\"><pre>GridSearchCV(cv=3,\n",
       "             estimator=&lt;catboost.core.CatBoostClassifier object at 0x000002968F9F5450&gt;,\n",
       "             n_jobs=-1,\n",
       "             param_grid={&#x27;depth&#x27;: [4, 6, 8], &#x27;iterations&#x27;: [500],\n",
       "                         &#x27;learning_rate&#x27;: [0.01, 0.1, 0.2]},\n",
       "             scoring=&#x27;accuracy&#x27;)</pre></div></div></div><div class=\"sk-parallel\"><div class=\"sk-parallel-item\"><div class=\"sk-item\"><div class=\"sk-label-container\"><div class=\"sk-label sk-toggleable\"><input class=\"sk-toggleable__control sk-hidden--visually\" id=\"sk-estimator-id-2\" type=\"checkbox\" ><label for=\"sk-estimator-id-2\" class=\"sk-toggleable__label sk-toggleable__label-arrow\">estimator: CatBoostClassifier</label><div class=\"sk-toggleable__content\"><pre>&lt;catboost.core.CatBoostClassifier object at 0x000002968F9F5450&gt;</pre></div></div></div><div class=\"sk-serial\"><div class=\"sk-item\"><div class=\"sk-estimator sk-toggleable\"><input class=\"sk-toggleable__control sk-hidden--visually\" id=\"sk-estimator-id-3\" type=\"checkbox\" ><label for=\"sk-estimator-id-3\" class=\"sk-toggleable__label sk-toggleable__label-arrow\">CatBoostClassifier</label><div class=\"sk-toggleable__content\"><pre>&lt;catboost.core.CatBoostClassifier object at 0x000002968F9F5450&gt;</pre></div></div></div></div></div></div></div></div></div></div>"
      ],
      "text/plain": [
       "GridSearchCV(cv=3,\n",
       "             estimator=<catboost.core.CatBoostClassifier object at 0x000002968F9F5450>,\n",
       "             n_jobs=-1,\n",
       "             param_grid={'depth': [4, 6, 8], 'iterations': [500],\n",
       "                         'learning_rate': [0.01, 0.1, 0.2]},\n",
       "             scoring='accuracy')"
      ]
     },
     "execution_count": 8,
     "metadata": {},
     "output_type": "execute_result"
    }
   ],
   "source": [
    "from sklearn.model_selection import GridSearchCV\n",
    "from catboost import CatBoostClassifier\n",
    "param_grid = {\n",
    "    'iterations': [500],\n",
    "    'learning_rate': [0.01, 0.1, 0.2],\n",
    "    'depth': [4, 6, 8]\n",
    "}\n",
    "\n",
    "catboost_tuned = CatBoostClassifier(loss_function='MultiClass', verbose=0, random_state=42)\n",
    "grid_search = GridSearchCV(estimator=catboost_tuned, param_grid=param_grid, scoring='accuracy', cv=3, n_jobs=-1)\n",
    "grid_search.fit(X_train_vec, y_train)"
   ]
  },
  {
   "cell_type": "code",
   "execution_count": 9,
   "metadata": {},
   "outputs": [
    {
     "name": "stdout",
     "output_type": "stream",
     "text": [
      "\n",
      "최적의 하이퍼파라미터: {'depth': 8, 'iterations': 500, 'learning_rate': 0.2}\n"
     ]
    }
   ],
   "source": [
    "# 최적의 하이퍼파라미터로 다시 모델 훈련 및 평가\n",
    "best_params = grid_search.best_params_\n",
    "print(f\"\\n최적의 하이퍼파라미터: {best_params}\")"
   ]
  },
  {
   "cell_type": "code",
   "execution_count": 10,
   "metadata": {},
   "outputs": [
    {
     "data": {
      "text/plain": [
       "<catboost.core.CatBoostClassifier at 0x2968f9ebc50>"
      ]
     },
     "execution_count": 10,
     "metadata": {},
     "output_type": "execute_result"
    }
   ],
   "source": [
    "best_catboost_model = CatBoostClassifier(**best_params, random_state=42, verbose=0)\n",
    "best_catboost_model.fit(X_train_vec, y_train, eval_set=(X_valid_vec, y_valid), early_stopping_rounds=50)"
   ]
  },
  {
   "cell_type": "code",
   "execution_count": 11,
   "metadata": {},
   "outputs": [
    {
     "name": "stdout",
     "output_type": "stream",
     "text": [
      "최적 모델 훈련 정확도: 0.784\n",
      "최적 모델 검증 정확도: 0.709\n",
      "최적 모델 테스트 정확도: 0.706\n",
      "\n",
      "최적 모델 검증 세트 분류 리포트:\n",
      "\n",
      "              precision    recall  f1-score   support\n",
      "\n",
      "           2       0.53      0.54      0.54       498\n",
      "           4       0.84      0.86      0.85       400\n",
      "           8       0.50      0.55      0.53       247\n",
      "           9       0.82      0.92      0.87       235\n",
      "          10       0.55      0.64      0.59       168\n",
      "          13       0.84      0.85      0.84       150\n",
      "          18       0.69      0.48      0.56       162\n",
      "          30       0.95      0.97      0.96       433\n",
      "          31       0.65      0.65      0.65       318\n",
      "          32       0.66      0.57      0.61       313\n",
      "          33       0.85      0.39      0.54       449\n",
      "          34       0.71      0.98      0.82       616\n",
      "          35       0.62      0.62      0.62       379\n",
      "\n",
      "    accuracy                           0.71      4368\n",
      "   macro avg       0.71      0.69      0.69      4368\n",
      "weighted avg       0.72      0.71      0.70      4368\n",
      "\n",
      "\n",
      "최적 모델 테스트 세트 분류 리포트:\n",
      "\n",
      "              precision    recall  f1-score   support\n",
      "\n",
      "           2       0.56      0.58      0.57       485\n",
      "           4       0.84      0.84      0.84       436\n",
      "           8       0.43      0.55      0.48       214\n",
      "           9       0.79      0.91      0.85       208\n",
      "          10       0.62      0.62      0.62       209\n",
      "          13       0.82      0.91      0.86       149\n",
      "          18       0.56      0.36      0.44       149\n",
      "          30       0.95      0.97      0.96       421\n",
      "          31       0.66      0.61      0.63       338\n",
      "          32       0.67      0.58      0.62       319\n",
      "          33       0.85      0.37      0.51       424\n",
      "          34       0.72      0.98      0.83       613\n",
      "          35       0.63      0.63      0.63       403\n",
      "\n",
      "    accuracy                           0.71      4368\n",
      "   macro avg       0.70      0.69      0.68      4368\n",
      "weighted avg       0.71      0.71      0.70      4368\n",
      "\n"
     ]
    }
   ],
   "source": [
    "# 모델 평가 (최적의 하이퍼파라미터 사용)\n",
    "y_train_pred = best_catboost_model.predict(X_train_vec)\n",
    "y_valid_pred = best_catboost_model.predict(X_valid_vec)\n",
    "y_test_pred = best_catboost_model.predict(X_test_vec)\n",
    "\n",
    "train_accuracy = accuracy_score(y_train, y_train_pred)\n",
    "valid_accuracy = accuracy_score(y_valid, y_valid_pred)\n",
    "test_accuracy = accuracy_score(y_test, y_test_pred)\n",
    "\n",
    "print(f'최적 모델 훈련 정확도: {train_accuracy:.3f}')\n",
    "print(f'최적 모델 검증 정확도: {valid_accuracy:.3f}')\n",
    "print(f'최적 모델 테스트 정확도: {test_accuracy:.3f}')\n",
    "\n",
    "# 검증 세트에 대한 분류 리포트 출력 (최적 모델)\n",
    "print(\"\\n최적 모델 검증 세트 분류 리포트:\\n\")\n",
    "print(classification_report(y_valid, y_valid_pred))\n",
    "\n",
    "# 테스트 세트에 대한 분류 리포트 출력 (최적 모델)\n",
    "print(\"\\n최적 모델 테스트 세트 분류 리포트:\\n\")\n",
    "print(classification_report(y_test, y_test_pred))\n"
   ]
  },
  {
   "cell_type": "code",
   "execution_count": null,
   "metadata": {},
   "outputs": [],
   "source": []
  }
 ],
 "metadata": {
  "kernelspec": {
   "display_name": "base",
   "language": "python",
   "name": "python3"
  },
  "language_info": {
   "codemirror_mode": {
    "name": "ipython",
    "version": 3
   },
   "file_extension": ".py",
   "mimetype": "text/x-python",
   "name": "python",
   "nbconvert_exporter": "python",
   "pygments_lexer": "ipython3",
   "version": "3.11.5"
  }
 },
 "nbformat": 4,
 "nbformat_minor": 2
}
