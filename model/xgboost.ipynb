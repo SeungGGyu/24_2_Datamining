{
  "nbformat": 4,
  "nbformat_minor": 0,
  "metadata": {
    "colab": {
      "provenance": []
    },
    "kernelspec": {
      "name": "python3",
      "display_name": "Python 3"
    },
    "language_info": {
      "name": "python"
    }
  },
  "cells": [
    {
      "cell_type": "code",
      "execution_count": 1,
      "metadata": {
        "id": "jVnOd00hnDNt"
      },
      "outputs": [],
      "source": [
        "import pandas as pd"
      ]
    },
    {
      "cell_type": "code",
      "source": [
        "df = pd.read_csv(\"new_df.csv\", encoding='utf-8')"
      ],
      "metadata": {
        "id": "Nx03_EeZnQjV"
      },
      "execution_count": 2,
      "outputs": []
    },
    {
      "cell_type": "code",
      "source": [
        "from sklearn.feature_extraction.text import TfidfVectorizer\n",
        "\n",
        "# 텍스트 데이터와 라벨 분리\n",
        "texts = df['preprocessed_text']  # 'new_labeled_data' 대신 'df' 사용\n",
        "labels = df['label']  # 동일하게 'df'에서 라벨 가져오기\n",
        "\n",
        "# TF-IDF 벡터화\n",
        "vectorizer = TfidfVectorizer(max_features=30)  # 상위 30개 단어만 사용\n",
        "vectored_df = vectorizer.fit_transform(texts)\n",
        "\n",
        "# 희소 행렬 -> 밀집 행렬 변환\n",
        "dense_df = vectored_df.todense()\n",
        "\n",
        "# 특징 이름 가져오기\n",
        "feature_names = vectorizer.get_feature_names_out()\n",
        "\n",
        "# DataFrame으로 변환\n",
        "df_tfidf = pd.DataFrame(dense_df, columns=feature_names)\n",
        "\n",
        "print(\"TF-IDF 벡터화 결과:\")\n",
        "print(df_tfidf)\n"
      ],
      "metadata": {
        "colab": {
          "base_uri": "https://localhost:8080/"
        },
        "id": "BZSQ60LYnXGr",
        "outputId": "5bf789eb-e5fa-4dad-e19f-01caa77f070a"
      },
      "execution_count": 3,
      "outputs": [
        {
          "output_type": "stream",
          "name": "stdout",
          "text": [
            "TF-IDF 벡터화 결과:\n",
            "        건강        검정   경보       경찰청   관리   그늘   금지        되다  물놀이       바라다  \\\n",
            "0      0.0  0.000000  0.0  0.707698  0.0  0.0  0.0  0.000000  0.0  0.000000   \n",
            "1      0.0  0.000000  0.0  0.000000  0.0  0.0  0.0  0.000000  0.0  0.313276   \n",
            "2      0.0  0.000000  0.0  0.000000  0.0  0.0  0.0  0.855446  0.0  0.517892   \n",
            "3      0.0  0.627727  0.0  0.550896  0.0  0.0  0.0  0.000000  0.0  0.000000   \n",
            "4      0.0  0.849887  0.0  0.372932  0.0  0.0  0.0  0.000000  0.0  0.000000   \n",
            "...    ...       ...  ...       ...  ...  ...  ...       ...  ...       ...   \n",
            "21835  0.0  0.000000  0.0  0.000000  0.0  0.0  0.0  0.000000  0.0  0.171697   \n",
            "21836  0.0  0.000000  0.0  0.000000  0.0  0.0  0.0  0.000000  0.0  0.654018   \n",
            "21837  0.0  0.000000  0.0  0.000000  0.0  0.0  0.0  0.733854  0.0  0.444279   \n",
            "21838  0.0  0.000000  0.0  0.000000  0.0  0.0  0.0  0.000000  0.0  0.491296   \n",
            "21839  0.0  0.000000  0.0  0.000000  0.0  0.0  0.0  0.000000  0.0  0.654018   \n",
            "\n",
            "       ...   준수        지역   착용        찾다  충분하다   폭염        하다        하천   활동  \\\n",
            "0      ...  0.0  0.000000  0.0  0.706515   0.0  0.0  0.000000  0.000000  0.0   \n",
            "1      ...  0.0  0.000000  0.0  0.000000   0.0  0.0  0.362355  0.000000  0.0   \n",
            "2      ...  0.0  0.000000  0.0  0.000000   0.0  0.0  0.000000  0.000000  0.0   \n",
            "3      ...  0.0  0.000000  0.0  0.549975   0.0  0.0  0.000000  0.000000  0.0   \n",
            "4      ...  0.0  0.000000  0.0  0.372309   0.0  0.0  0.000000  0.000000  0.0   \n",
            "...    ...  ...       ...  ...       ...   ...  ...       ...       ...  ...   \n",
            "21835  ...  0.0  0.626919  0.0  0.000000   0.0  0.0  0.000000  0.360482  0.0   \n",
            "21836  ...  0.0  0.000000  0.0  0.000000   0.0  0.0  0.756479  0.000000  0.0   \n",
            "21837  ...  0.0  0.000000  0.0  0.000000   0.0  0.0  0.513881  0.000000  0.0   \n",
            "21838  ...  0.0  0.000000  0.0  0.000000   0.0  0.0  0.568263  0.000000  0.0   \n",
            "21839  ...  0.0  0.000000  0.0  0.000000   0.0  0.0  0.756479  0.000000  0.0   \n",
            "\n",
            "        휴식  \n",
            "0      0.0  \n",
            "1      0.0  \n",
            "2      0.0  \n",
            "3      0.0  \n",
            "4      0.0  \n",
            "...    ...  \n",
            "21835  0.0  \n",
            "21836  0.0  \n",
            "21837  0.0  \n",
            "21838  0.0  \n",
            "21839  0.0  \n",
            "\n",
            "[21840 rows x 30 columns]\n"
          ]
        }
      ]
    },
    {
      "cell_type": "code",
      "source": [
        "from sklearn.preprocessing import LabelEncoder\n",
        "from sklearn.model_selection import train_test_split\n",
        "# 라벨 변환\n",
        "label_encoder = LabelEncoder()\n",
        "y_encoded = label_encoder.fit_transform(df['label'])  # 라벨을 0부터 시작하는 정수로 변환\n",
        "\n",
        "# Train/Validation/Test 데이터 분리\n",
        "X = df_tfidf\n",
        "y = y_encoded  # 변환된 라벨 사용\n",
        "\n",
        "X_train, X_temp, y_train, y_temp = train_test_split(X, y, test_size=0.4, random_state=42)\n",
        "X_valid, X_test, y_valid, y_test = train_test_split(X_temp, y_temp, test_size=0.5, random_state=42)\n",
        "\n",
        "print(\"Train/Validation/Test 데이터 분리 완료\")\n",
        "print(f\"훈련 데이터 크기: {X_train.shape}, {y_train.shape}\")\n",
        "print(f\"검증 데이터 크기: {X_valid.shape}, {y_valid.shape}\")\n",
        "print(f\"테스트 데이터 크기: {X_test.shape}, {y_test.shape}\")\n"
      ],
      "metadata": {
        "colab": {
          "base_uri": "https://localhost:8080/"
        },
        "id": "BF_X8ChdnYyR",
        "outputId": "165949b4-e0dc-4e5b-fae5-3de25abb50ca"
      },
      "execution_count": 5,
      "outputs": [
        {
          "output_type": "stream",
          "name": "stdout",
          "text": [
            "Train/Validation/Test 데이터 분리 완료\n",
            "훈련 데이터 크기: (13104, 30), (13104,)\n",
            "검증 데이터 크기: (4368, 30), (4368,)\n",
            "테스트 데이터 크기: (4368, 30), (4368,)\n"
          ]
        }
      ]
    },
    {
      "cell_type": "code",
      "source": [
        "import xgboost as xgb\n",
        "from sklearn.metrics import classification_report, accuracy_score\n",
        "\n",
        "# 기본 XGBoost 모델 생성 및 학습\n",
        "xgb_model = xgb.XGBClassifier(use_label_encoder=False, eval_metric='mlogloss', random_state=42)\n",
        "xgb_model.fit(X_train, y_train)\n",
        "\n",
        "# 학습 데이터 평가\n",
        "y_train_pred = xgb_model.predict(X_train)\n",
        "print(\"Train Set Performance:\")\n",
        "print(classification_report(y_train, y_train_pred))\n",
        "\n",
        "# 검증 데이터 평가\n",
        "y_valid_pred = xgb_model.predict(X_valid)\n",
        "print(\"Validation Set Performance:\")\n",
        "print(classification_report(y_valid, y_valid_pred))\n"
      ],
      "metadata": {
        "colab": {
          "base_uri": "https://localhost:8080/"
        },
        "id": "8-TPucr9nvKT",
        "outputId": "38be5881-3ebc-4475-95d8-07c86ec7f5c9"
      },
      "execution_count": 6,
      "outputs": [
        {
          "output_type": "stream",
          "name": "stderr",
          "text": [
            "/usr/local/lib/python3.10/dist-packages/xgboost/core.py:158: UserWarning: [11:54:02] WARNING: /workspace/src/learner.cc:740: \n",
            "Parameters: { \"use_label_encoder\" } are not used.\n",
            "\n",
            "  warnings.warn(smsg, UserWarning)\n"
          ]
        },
        {
          "output_type": "stream",
          "name": "stdout",
          "text": [
            "Train Set Performance:\n",
            "              precision    recall  f1-score   support\n",
            "\n",
            "           0       0.74      0.73      0.73      1498\n",
            "           1       0.95      0.97      0.96      1162\n",
            "           2       0.57      0.73      0.64       753\n",
            "           3       0.97      0.91      0.94       594\n",
            "           4       0.72      0.84      0.78       555\n",
            "           5       0.97      0.96      0.96       497\n",
            "           6       0.88      0.75      0.81       455\n",
            "           7       0.99      0.99      0.99      1256\n",
            "           8       0.77      0.82      0.79       932\n",
            "           9       0.88      0.75      0.81       981\n",
            "          10       0.95      0.42      0.58      1384\n",
            "          11       0.70      0.98      0.82      1880\n",
            "          12       0.85      0.79      0.82      1157\n",
            "\n",
            "    accuracy                           0.81     13104\n",
            "   macro avg       0.84      0.82      0.82     13104\n",
            "weighted avg       0.84      0.81      0.81     13104\n",
            "\n",
            "Validation Set Performance:\n",
            "              precision    recall  f1-score   support\n",
            "\n",
            "           0       0.51      0.51      0.51       498\n",
            "           1       0.88      0.89      0.89       400\n",
            "           2       0.49      0.60      0.54       247\n",
            "           3       0.91      0.89      0.90       235\n",
            "           4       0.56      0.67      0.61       168\n",
            "           5       0.86      0.88      0.87       150\n",
            "           6       0.68      0.46      0.55       162\n",
            "           7       0.96      0.98      0.97       433\n",
            "           8       0.64      0.72      0.68       318\n",
            "           9       0.65      0.55      0.59       313\n",
            "          10       0.88      0.41      0.56       449\n",
            "          11       0.71      0.97      0.82       616\n",
            "          12       0.63      0.60      0.62       379\n",
            "\n",
            "    accuracy                           0.72      4368\n",
            "   macro avg       0.72      0.70      0.70      4368\n",
            "weighted avg       0.73      0.72      0.71      4368\n",
            "\n"
          ]
        }
      ]
    },
    {
      "cell_type": "code",
      "source": [
        "from sklearn.model_selection import GridSearchCV\n",
        "\n",
        "# 하이퍼파라미터 그리드 설정\n",
        "param_grid = {\n",
        "    'max_depth': [3, 4, 5, 6, 7],\n",
        "    'learning_rate': [0.01, 0.05, 0.1, 0.2],\n",
        "    'n_estimators': [100, 200, 300],\n",
        "    'subsample': [0.6, 0.8, 1.0],\n",
        "    'colsample_bytree': [0.6, 0.8, 1.0]\n",
        "}\n",
        "\n",
        "# GridSearchCV로 최적의 파라미터 찾기\n",
        "grid_search = GridSearchCV(\n",
        "    estimator=xgb.XGBClassifier(use_label_encoder=False, eval_metric='mlogloss', random_state=42),\n",
        "    param_grid=param_grid,\n",
        "    scoring='accuracy',\n",
        "    cv=3,\n",
        "    verbose=1,\n",
        "    n_jobs=-1\n",
        ")\n",
        "\n",
        "grid_search.fit(X_train, y_train)\n",
        "\n",
        "# 최적의 파라미터와 점수 출력\n",
        "print(\"Best Hyperparameters:\", grid_search.best_params_)\n",
        "print(\"Best Validation Score:\", grid_search.best_score_)\n"
      ],
      "metadata": {
        "colab": {
          "base_uri": "https://localhost:8080/"
        },
        "id": "pW_CY4h8nsrX",
        "outputId": "485cb285-9330-46ad-89d6-c942f8ef8975"
      },
      "execution_count": 7,
      "outputs": [
        {
          "output_type": "stream",
          "name": "stdout",
          "text": [
            "Fitting 3 folds for each of 540 candidates, totalling 1620 fits\n"
          ]
        },
        {
          "output_type": "stream",
          "name": "stderr",
          "text": [
            "/usr/local/lib/python3.10/dist-packages/xgboost/core.py:158: UserWarning: [15:24:54] WARNING: /workspace/src/learner.cc:740: \n",
            "Parameters: { \"use_label_encoder\" } are not used.\n",
            "\n",
            "  warnings.warn(smsg, UserWarning)\n"
          ]
        },
        {
          "output_type": "stream",
          "name": "stdout",
          "text": [
            "Best Hyperparameters: {'colsample_bytree': 0.6, 'learning_rate': 0.1, 'max_depth': 7, 'n_estimators': 300, 'subsample': 1.0}\n",
            "Best Validation Score: 0.7018467643467643\n"
          ]
        }
      ]
    },
    {
      "cell_type": "code",
      "source": [
        "# 최적의 파라미터로 XGBoost 모델 재학습\n",
        "best_xgb_model = grid_search.best_estimator_\n",
        "best_xgb_model.fit(X_train, y_train)\n",
        "\n",
        "# 학습 데이터 평가\n",
        "y_train_pred = best_xgb_model.predict(X_train)\n",
        "train_accuracy = accuracy_score(y_train, y_train_pred)\n",
        "print(\"Train Set Performance:\")\n",
        "print(classification_report(y_train, y_train_pred))\n",
        "print(\"Train Accuracy: {:.3f}\".format(train_accuracy))\n",
        "\n",
        "# 검증 데이터 평가\n",
        "y_valid_pred = best_xgb_model.predict(X_valid)\n",
        "valid_accuracy = accuracy_score(y_valid, y_valid_pred)\n",
        "print(\"Validation Set Performance:\")\n",
        "print(classification_report(y_valid, y_valid_pred))\n",
        "print(\"Validation Accuracy: {:.3f}\".format(valid_accuracy))\n"
      ],
      "metadata": {
        "colab": {
          "base_uri": "https://localhost:8080/"
        },
        "id": "8ZYnFX1Jnzlr",
        "outputId": "faa77359-3322-41df-8528-382626563522"
      },
      "execution_count": 8,
      "outputs": [
        {
          "output_type": "stream",
          "name": "stderr",
          "text": [
            "/usr/local/lib/python3.10/dist-packages/xgboost/core.py:158: UserWarning: [15:30:37] WARNING: /workspace/src/learner.cc:740: \n",
            "Parameters: { \"use_label_encoder\" } are not used.\n",
            "\n",
            "  warnings.warn(smsg, UserWarning)\n"
          ]
        },
        {
          "output_type": "stream",
          "name": "stdout",
          "text": [
            "Train Set Performance:\n",
            "              precision    recall  f1-score   support\n",
            "\n",
            "           0       0.75      0.74      0.75      1498\n",
            "           1       0.96      0.97      0.96      1162\n",
            "           2       0.57      0.74      0.64       753\n",
            "           3       0.97      0.91      0.94       594\n",
            "           4       0.73      0.85      0.78       555\n",
            "           5       0.97      0.96      0.96       497\n",
            "           6       0.87      0.76      0.81       455\n",
            "           7       0.99      0.99      0.99      1256\n",
            "           8       0.78      0.83      0.80       932\n",
            "           9       0.91      0.77      0.83       981\n",
            "          10       0.95      0.42      0.59      1384\n",
            "          11       0.70      0.98      0.82      1880\n",
            "          12       0.88      0.80      0.84      1157\n",
            "\n",
            "    accuracy                           0.82     13104\n",
            "   macro avg       0.85      0.82      0.82     13104\n",
            "weighted avg       0.84      0.82      0.82     13104\n",
            "\n",
            "Train Accuracy: 0.821\n",
            "Validation Set Performance:\n",
            "              precision    recall  f1-score   support\n",
            "\n",
            "           0       0.52      0.52      0.52       498\n",
            "           1       0.87      0.89      0.88       400\n",
            "           2       0.49      0.60      0.54       247\n",
            "           3       0.91      0.89      0.90       235\n",
            "           4       0.56      0.65      0.60       168\n",
            "           5       0.86      0.88      0.87       150\n",
            "           6       0.69      0.46      0.55       162\n",
            "           7       0.97      0.98      0.97       433\n",
            "           8       0.66      0.70      0.68       318\n",
            "           9       0.68      0.54      0.60       313\n",
            "          10       0.89      0.41      0.57       449\n",
            "          11       0.71      0.97      0.82       616\n",
            "          12       0.63      0.63      0.63       379\n",
            "\n",
            "    accuracy                           0.72      4368\n",
            "   macro avg       0.72      0.70      0.70      4368\n",
            "weighted avg       0.73      0.72      0.71      4368\n",
            "\n",
            "Validation Accuracy: 0.717\n"
          ]
        }
      ]
    },
    {
      "cell_type": "code",
      "source": [
        "# 테스트 데이터 평가\n",
        "y_test_pred = best_xgb_model.predict(X_test)\n",
        "test_accuracy = accuracy_score(y_test, y_test_pred)\n",
        "print(\"Test Set Performance:\")\n",
        "print(classification_report(y_test, y_test_pred))\n",
        "print(\"Test Accuracy: {:.3f}\".format(test_accuracy))\n"
      ],
      "metadata": {
        "colab": {
          "base_uri": "https://localhost:8080/"
        },
        "id": "M2WbrnzHn1AW",
        "outputId": "4198764d-335d-4abb-d0e6-7415bd7c506d"
      },
      "execution_count": 9,
      "outputs": [
        {
          "output_type": "stream",
          "name": "stdout",
          "text": [
            "Test Set Performance:\n",
            "              precision    recall  f1-score   support\n",
            "\n",
            "           0       0.53      0.54      0.54       485\n",
            "           1       0.86      0.89      0.87       436\n",
            "           2       0.40      0.58      0.47       214\n",
            "           3       0.88      0.88      0.88       208\n",
            "           4       0.60      0.60      0.60       209\n",
            "           5       0.86      0.90      0.88       149\n",
            "           6       0.57      0.35      0.43       149\n",
            "           7       0.97      0.97      0.97       421\n",
            "           8       0.68      0.65      0.66       338\n",
            "           9       0.67      0.60      0.63       319\n",
            "          10       0.87      0.39      0.54       424\n",
            "          11       0.71      0.98      0.82       613\n",
            "          12       0.66      0.62      0.64       403\n",
            "\n",
            "    accuracy                           0.71      4368\n",
            "   macro avg       0.71      0.69      0.69      4368\n",
            "weighted avg       0.72      0.71      0.70      4368\n",
            "\n",
            "Test Accuracy: 0.711\n"
          ]
        }
      ]
    }
  ]
}